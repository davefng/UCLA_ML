{
 "cells": [
  {
   "cell_type": "code",
   "execution_count": 450,
   "metadata": {},
   "outputs": [],
   "source": [
    "import numpy as np\n",
    "import pandas as pd\n",
    "import matplotlib.pyplot as plt\n",
    "import datetime as dt"
   ]
  },
  {
   "cell_type": "code",
   "execution_count": 451,
   "metadata": {},
   "outputs": [],
   "source": [
    "crime=pd.read_csv(r'C:\\Users\\Rachel\\Desktop\\ML\\final\\crime19.csv')"
   ]
  },
  {
   "cell_type": "code",
   "execution_count": 452,
   "metadata": {
    "scrolled": true
   },
   "outputs": [
    {
     "name": "stdout",
     "output_type": "stream",
     "text": [
      "(2115055, 28)\n"
     ]
    }
   ],
   "source": [
    "print(crime.shape)"
   ]
  },
  {
   "cell_type": "code",
   "execution_count": 453,
   "metadata": {},
   "outputs": [
    {
     "data": {
      "text/plain": [
       "Index(['DR_NO', 'Date Rptd', 'DATE OCC', 'TIME OCC', 'AREA ', 'AREA NAME',\n",
       "       'Rpt Dist No', 'Part 1-2', 'Crm Cd', 'Crm Cd Desc', 'Mocodes',\n",
       "       'Vict Age', 'Vict Sex', 'Vict Descent', 'Premis Cd', 'Premis Desc',\n",
       "       'Weapon Used Cd', 'Weapon Desc', 'Status', 'Status Desc', 'Crm Cd 1',\n",
       "       'Crm Cd 2', 'Crm Cd 3', 'Crm Cd 4', 'LOCATION', 'Cross Street', 'LAT',\n",
       "       'LON'],\n",
       "      dtype='object')"
      ]
     },
     "execution_count": 453,
     "metadata": {},
     "output_type": "execute_result"
    }
   ],
   "source": [
    "crime.columns"
   ]
  },
  {
   "cell_type": "code",
   "execution_count": 454,
   "metadata": {},
   "outputs": [],
   "source": [
    "labels=crime[['AREA ', 'AREA NAME', 'Crm Cd','Crm Cd Desc', 'Premis Cd','Premis Desc','Weapon Used Cd', 'Weapon Desc','Status','Status Desc']]"
   ]
  },
  {
   "cell_type": "code",
   "execution_count": 455,
   "metadata": {},
   "outputs": [],
   "source": [
    "crime=crime.drop(['DATE OCC', 'AREA NAME',\n",
    "       'Crm Cd Desc','TIME OCC' ,'Mocodes',\n",
    "        'Vict Descent',  'Premis Desc',\n",
    "        'Weapon Desc',  'Status Desc', 'Crm Cd 1',\n",
    "       'Crm Cd 2', 'Crm Cd 3', 'Crm Cd 4', 'Cross Street', 'LAT','LON'], axis=1)"
   ]
  },
  {
   "cell_type": "code",
   "execution_count": 456,
   "metadata": {},
   "outputs": [],
   "source": [
    "crime=crime.rename(columns={'DR_NO':'id', 'Date Rptd':'date', 'AREA ':'area', 'Rpt Dist No':'district_number', 'Part 1-2':'part', 'Crm Cd':'crime_code', \n",
    "       'Vict Age':'age', 'Vict Sex':'sex', 'Vict Descent':'descent', 'Premis Cd':'premis', \n",
    "       'Weapon Used Cd':'weapon', 'Status':'status', 'LOCATION':'location'})"
   ]
  },
  {
   "cell_type": "code",
   "execution_count": 457,
   "metadata": {
    "scrolled": true
   },
   "outputs": [
    {
     "name": "stdout",
     "output_type": "stream",
     "text": [
      "id                 0\n",
      "date               0\n",
      "area               0\n",
      "district_number    0\n",
      "part               0\n",
      "crime_code         0\n",
      "age                0\n",
      "sex                0\n",
      "premis             0\n",
      "weapon             0\n",
      "status             0\n",
      "location           0\n",
      "dtype: int64\n"
     ]
    }
   ],
   "source": [
    "token='N'\n",
    "crime.sex=crime.sex.fillna(token)\n",
    "crime.weapon=crime.weapon.fillna(token)\n",
    "\n",
    "crime=crime.dropna(how='any')\n",
    "print(crime.isnull().sum())"
   ]
  },
  {
   "cell_type": "code",
   "execution_count": 458,
   "metadata": {
    "scrolled": true
   },
   "outputs": [],
   "source": [
    "crime['month_year'] =pd.to_datetime(crime['date']).dt.to_period('M')"
   ]
  },
  {
   "cell_type": "code",
   "execution_count": 459,
   "metadata": {},
   "outputs": [],
   "source": [
    "crime=crime.drop(['date'], axis=1)"
   ]
  },
  {
   "cell_type": "code",
   "execution_count": 460,
   "metadata": {},
   "outputs": [
    {
     "data": {
      "text/plain": [
       "(369863, 12)"
      ]
     },
     "execution_count": 460,
     "metadata": {},
     "output_type": "execute_result"
    }
   ],
   "source": [
    "# there are many data which age = 0 doesn't make any  sense\n",
    "crime[crime.age==0].shape"
   ]
  },
  {
   "cell_type": "code",
   "execution_count": 461,
   "metadata": {},
   "outputs": [],
   "source": [
    "crime_11_12=crime[crime.month_year>'2011-11'].sort_values(by='month_year').reset_index(drop=True)"
   ]
  },
  {
   "cell_type": "code",
   "execution_count": 462,
   "metadata": {},
   "outputs": [
    {
     "data": {
      "text/plain": [
       "(1732875, 12)"
      ]
     },
     "execution_count": 462,
     "metadata": {},
     "output_type": "execute_result"
    }
   ],
   "source": [
    "crime_11_12.shape"
   ]
  },
  {
   "cell_type": "code",
   "execution_count": 463,
   "metadata": {},
   "outputs": [
    {
     "name": "stdout",
     "output_type": "stream",
     "text": [
      "<PeriodArray>\n",
      "['2011-12', '2012-01', '2012-02', '2012-03', '2012-04', '2012-05', '2012-06',\n",
      " '2012-07', '2012-08', '2012-09',\n",
      " ...\n",
      " '2019-11', '2019-12', '2020-01', '2020-02', '2020-03', '2020-04', '2020-05',\n",
      " '2020-06', '2020-07', '2020-08']\n",
      "Length: 105, dtype: period[M]\n"
     ]
    }
   ],
   "source": [
    "print(crime_11_12['month_year'].unique())"
   ]
  },
  {
   "cell_type": "markdown",
   "metadata": {},
   "source": [
    "## spending"
   ]
  },
  {
   "cell_type": "code",
   "execution_count": 464,
   "metadata": {},
   "outputs": [],
   "source": [
    "# spending=pd.read_csv(r'C:\\Users\\Rachel\\Desktop\\ML\\final\\spending.csv')\n",
    "# spending.shape\n",
    "# pd.set_option('display.max_columns', None)\n",
    "# # spending.iloc[:,:30].isnull().sum()\n",
    "# # spending.iloc[:,30:].isnull().sum()\n",
    "# labels=spending(['ITEM CODE NAME','ITEM CODE'])\n",
    "# spending.columns\n",
    "# spending.info()\n",
    "# spending.isnull().sum()\n",
    "# spending=spending.drop(['SETTLEMENT/JUDGMENT','AUTHORITY LINK','AUTHORITY','AUTHORITY NAME','INVOICE DISCOUNT DUE DATE','UNIT OF MEASURE','INVOICE DUE DATE','BU NAME','CURRENCY'], axis=1)"
   ]
  },
  {
   "cell_type": "markdown",
   "metadata": {
    "scrolled": true
   },
   "source": [
    "### Budegt"
   ]
  },
  {
   "cell_type": "code",
   "execution_count": 465,
   "metadata": {},
   "outputs": [],
   "source": [
    "budget=pd.read_csv(r'C:\\Users\\Rachel\\Desktop\\ML\\final\\budget.csv')"
   ]
  },
  {
   "cell_type": "code",
   "execution_count": 466,
   "metadata": {},
   "outputs": [],
   "source": [
    "#drop columns after total expenditures\n",
    "budget=budget.iloc[:,:32]"
   ]
  },
  {
   "cell_type": "code",
   "execution_count": 467,
   "metadata": {},
   "outputs": [],
   "source": [
    "# budget.columns"
   ]
  },
  {
   "cell_type": "code",
   "execution_count": 468,
   "metadata": {},
   "outputs": [],
   "source": [
    "#drop same values columns\n",
    "#'DEPARTMENT', 'DEPARTMENT NAME','AFR TYPE','DEPARTMENTAL INDICATOR','FUND GROUP','FUND GROUP NAME'bu\n",
    "budget=budget.drop(['FUND GROUP NAME','FUND NAME','FISCAL PERIOD NAME','FUND TYPE NAME','DEPARTMENT', 'DEPARTMENT NAME','ACCOUNT NAME', 'CAFR TYPE','ACCOUNT TYPE NAME','DEPARTMENTAL INDICATOR','ACCOUNT GROUP NAME','FUND GROUP','FUND GROUP NAME'], axis=1)"
   ]
  },
  {
   "cell_type": "code",
   "execution_count": 469,
   "metadata": {},
   "outputs": [],
   "source": [
    "#drop missing values morethan 20000.\n",
    "budget=budget.drop(['ADOPTED EXPENSE BUDGET','REVENUE SOURCE CATEGORY','REVENUE SOURCE CATEGORY NAME','REVENUE SOURCE CLASS','REVENUE SOURCE CLASS NAME','REVENUE SOURCE','REVENUE SOURCE NAME'], axis=1)"
   ]
  },
  {
   "cell_type": "code",
   "execution_count": 470,
   "metadata": {},
   "outputs": [],
   "source": [
    "token='UNK'\n",
    "budget=budget.fillna(token)"
   ]
  },
  {
   "cell_type": "code",
   "execution_count": 471,
   "metadata": {
    "scrolled": true
   },
   "outputs": [],
   "source": [
    "a=budget.columns.map(lambda x: x.lower().replace(' ', '_'))\n",
    "budget.columns=a"
   ]
  },
  {
   "cell_type": "code",
   "execution_count": 472,
   "metadata": {},
   "outputs": [],
   "source": [
    "budget['month_year']=pd.to_datetime(budget['fiscal_period'], format='%Y%m').dt.to_period('M')"
   ]
  },
  {
   "cell_type": "code",
   "execution_count": 473,
   "metadata": {},
   "outputs": [],
   "source": [
    "budget=budget.drop(['fiscal_period'], axis=1)"
   ]
  },
  {
   "cell_type": "code",
   "execution_count": 474,
   "metadata": {
    "scrolled": true
   },
   "outputs": [
    {
     "data": {
      "text/plain": [
       "Index(['budget_fiscal_year', 'fiscal_year', 'fund_type', 'fund',\n",
       "       'account_group', 'account_type', 'account', 'activity', 'activity_name',\n",
       "       'activity_group', 'activity_group_name', 'total_expenditures',\n",
       "       'month_year'],\n",
       "      dtype='object')"
      ]
     },
     "execution_count": 474,
     "metadata": {},
     "output_type": "execute_result"
    }
   ],
   "source": [
    "budget.columns"
   ]
  },
  {
   "cell_type": "code",
   "execution_count": 475,
   "metadata": {},
   "outputs": [],
   "source": [
    "budget=budget.sort_values(by='month_year').reset_index(drop=True)"
   ]
  },
  {
   "cell_type": "code",
   "execution_count": 476,
   "metadata": {},
   "outputs": [],
   "source": [
    "total=crime_11_12.groupby(['month_year']).size().to_frame()"
   ]
  },
  {
   "cell_type": "code",
   "execution_count": 477,
   "metadata": {
    "scrolled": true
   },
   "outputs": [],
   "source": [
    "crime_11_12=pd.merge(crime_11_12, total, on='month_year',how='left')"
   ]
  },
  {
   "cell_type": "code",
   "execution_count": 478,
   "metadata": {},
   "outputs": [
    {
     "data": {
      "text/html": [
       "<div>\n",
       "<style scoped>\n",
       "    .dataframe tbody tr th:only-of-type {\n",
       "        vertical-align: middle;\n",
       "    }\n",
       "\n",
       "    .dataframe tbody tr th {\n",
       "        vertical-align: top;\n",
       "    }\n",
       "\n",
       "    .dataframe thead th {\n",
       "        text-align: right;\n",
       "    }\n",
       "</style>\n",
       "<table border=\"1\" class=\"dataframe\">\n",
       "  <thead>\n",
       "    <tr style=\"text-align: right;\">\n",
       "      <th></th>\n",
       "      <th>id</th>\n",
       "      <th>area</th>\n",
       "      <th>district_number</th>\n",
       "      <th>part</th>\n",
       "      <th>crime_code</th>\n",
       "      <th>age</th>\n",
       "      <th>sex</th>\n",
       "      <th>premis</th>\n",
       "      <th>weapon</th>\n",
       "      <th>status</th>\n",
       "      <th>location</th>\n",
       "      <th>month_year</th>\n",
       "      <th>crime</th>\n",
       "    </tr>\n",
       "  </thead>\n",
       "  <tbody>\n",
       "    <tr>\n",
       "      <td>0</td>\n",
       "      <td>111721860</td>\n",
       "      <td>17</td>\n",
       "      <td>1756</td>\n",
       "      <td>1</td>\n",
       "      <td>330</td>\n",
       "      <td>32</td>\n",
       "      <td>M</td>\n",
       "      <td>104.0</td>\n",
       "      <td>N</td>\n",
       "      <td>IC</td>\n",
       "      <td>17600    MAYALL                       ST</td>\n",
       "      <td>2011-12</td>\n",
       "      <td>16246</td>\n",
       "    </tr>\n",
       "    <tr>\n",
       "      <td>1</td>\n",
       "      <td>111522020</td>\n",
       "      <td>15</td>\n",
       "      <td>1527</td>\n",
       "      <td>1</td>\n",
       "      <td>442</td>\n",
       "      <td>0</td>\n",
       "      <td>M</td>\n",
       "      <td>404.0</td>\n",
       "      <td>N</td>\n",
       "      <td>IC</td>\n",
       "      <td>11000    VICTORY                      BL</td>\n",
       "      <td>2011-12</td>\n",
       "      <td>16246</td>\n",
       "    </tr>\n",
       "    <tr>\n",
       "      <td>2</td>\n",
       "      <td>111432710</td>\n",
       "      <td>14</td>\n",
       "      <td>1483</td>\n",
       "      <td>1</td>\n",
       "      <td>510</td>\n",
       "      <td>0</td>\n",
       "      <td>N</td>\n",
       "      <td>101.0</td>\n",
       "      <td>N</td>\n",
       "      <td>IC</td>\n",
       "      <td>LINCOLN</td>\n",
       "      <td>2011-12</td>\n",
       "      <td>16246</td>\n",
       "    </tr>\n",
       "    <tr>\n",
       "      <td>3</td>\n",
       "      <td>111924380</td>\n",
       "      <td>19</td>\n",
       "      <td>1987</td>\n",
       "      <td>2</td>\n",
       "      <td>354</td>\n",
       "      <td>55</td>\n",
       "      <td>M</td>\n",
       "      <td>501.0</td>\n",
       "      <td>N</td>\n",
       "      <td>IC</td>\n",
       "      <td>8600    KATHERINE                    AV</td>\n",
       "      <td>2011-12</td>\n",
       "      <td>16246</td>\n",
       "    </tr>\n",
       "    <tr>\n",
       "      <td>4</td>\n",
       "      <td>110120970</td>\n",
       "      <td>1</td>\n",
       "      <td>191</td>\n",
       "      <td>1</td>\n",
       "      <td>510</td>\n",
       "      <td>0</td>\n",
       "      <td>N</td>\n",
       "      <td>101.0</td>\n",
       "      <td>N</td>\n",
       "      <td>IC</td>\n",
       "      <td>17TH                         ST</td>\n",
       "      <td>2011-12</td>\n",
       "      <td>16246</td>\n",
       "    </tr>\n",
       "    <tr>\n",
       "      <td>...</td>\n",
       "      <td>...</td>\n",
       "      <td>...</td>\n",
       "      <td>...</td>\n",
       "      <td>...</td>\n",
       "      <td>...</td>\n",
       "      <td>...</td>\n",
       "      <td>...</td>\n",
       "      <td>...</td>\n",
       "      <td>...</td>\n",
       "      <td>...</td>\n",
       "      <td>...</td>\n",
       "      <td>...</td>\n",
       "      <td>...</td>\n",
       "    </tr>\n",
       "    <tr>\n",
       "      <td>1732870</td>\n",
       "      <td>201711824</td>\n",
       "      <td>17</td>\n",
       "      <td>1761</td>\n",
       "      <td>1</td>\n",
       "      <td>331</td>\n",
       "      <td>49</td>\n",
       "      <td>M</td>\n",
       "      <td>509.0</td>\n",
       "      <td>N</td>\n",
       "      <td>IC</td>\n",
       "      <td>21500    LASSEN                       ST</td>\n",
       "      <td>2020-08</td>\n",
       "      <td>8</td>\n",
       "    </tr>\n",
       "    <tr>\n",
       "      <td>1732871</td>\n",
       "      <td>201912858</td>\n",
       "      <td>19</td>\n",
       "      <td>1969</td>\n",
       "      <td>1</td>\n",
       "      <td>121</td>\n",
       "      <td>26</td>\n",
       "      <td>F</td>\n",
       "      <td>502.0</td>\n",
       "      <td>400</td>\n",
       "      <td>IC</td>\n",
       "      <td>ARLETA</td>\n",
       "      <td>2020-08</td>\n",
       "      <td>8</td>\n",
       "    </tr>\n",
       "    <tr>\n",
       "      <td>1732872</td>\n",
       "      <td>200115750</td>\n",
       "      <td>1</td>\n",
       "      <td>121</td>\n",
       "      <td>2</td>\n",
       "      <td>354</td>\n",
       "      <td>36</td>\n",
       "      <td>F</td>\n",
       "      <td>710.0</td>\n",
       "      <td>N</td>\n",
       "      <td>IC</td>\n",
       "      <td>900 W  TEMPLE                       ST</td>\n",
       "      <td>2020-08</td>\n",
       "      <td>8</td>\n",
       "    </tr>\n",
       "    <tr>\n",
       "      <td>1732873</td>\n",
       "      <td>202012875</td>\n",
       "      <td>20</td>\n",
       "      <td>2029</td>\n",
       "      <td>2</td>\n",
       "      <td>649</td>\n",
       "      <td>42</td>\n",
       "      <td>M</td>\n",
       "      <td>502.0</td>\n",
       "      <td>N</td>\n",
       "      <td>IC</td>\n",
       "      <td>500 S  WESTMORELAND                 AV</td>\n",
       "      <td>2020-08</td>\n",
       "      <td>8</td>\n",
       "    </tr>\n",
       "    <tr>\n",
       "      <td>1732874</td>\n",
       "      <td>201414731</td>\n",
       "      <td>14</td>\n",
       "      <td>1473</td>\n",
       "      <td>1</td>\n",
       "      <td>341</td>\n",
       "      <td>41</td>\n",
       "      <td>F</td>\n",
       "      <td>501.0</td>\n",
       "      <td>N</td>\n",
       "      <td>IC</td>\n",
       "      <td>7400 W  MANCHESTER                   AV</td>\n",
       "      <td>2020-08</td>\n",
       "      <td>8</td>\n",
       "    </tr>\n",
       "  </tbody>\n",
       "</table>\n",
       "<p>1732875 rows × 13 columns</p>\n",
       "</div>"
      ],
      "text/plain": [
       "                id  area  district_number  part  crime_code  age sex  premis  \\\n",
       "0        111721860    17             1756     1         330   32   M   104.0   \n",
       "1        111522020    15             1527     1         442    0   M   404.0   \n",
       "2        111432710    14             1483     1         510    0   N   101.0   \n",
       "3        111924380    19             1987     2         354   55   M   501.0   \n",
       "4        110120970     1              191     1         510    0   N   101.0   \n",
       "...            ...   ...              ...   ...         ...  ...  ..     ...   \n",
       "1732870  201711824    17             1761     1         331   49   M   509.0   \n",
       "1732871  201912858    19             1969     1         121   26   F   502.0   \n",
       "1732872  200115750     1              121     2         354   36   F   710.0   \n",
       "1732873  202012875    20             2029     2         649   42   M   502.0   \n",
       "1732874  201414731    14             1473     1         341   41   F   501.0   \n",
       "\n",
       "        weapon status                                  location month_year  \\\n",
       "0            N     IC  17600    MAYALL                       ST    2011-12   \n",
       "1            N     IC  11000    VICTORY                      BL    2011-12   \n",
       "2            N     IC                                   LINCOLN    2011-12   \n",
       "3            N     IC   8600    KATHERINE                    AV    2011-12   \n",
       "4            N     IC           17TH                         ST    2011-12   \n",
       "...        ...    ...                                       ...        ...   \n",
       "1732870      N     IC  21500    LASSEN                       ST    2020-08   \n",
       "1732871    400     IC                                    ARLETA    2020-08   \n",
       "1732872      N     IC    900 W  TEMPLE                       ST    2020-08   \n",
       "1732873      N     IC    500 S  WESTMORELAND                 AV    2020-08   \n",
       "1732874      N     IC   7400 W  MANCHESTER                   AV    2020-08   \n",
       "\n",
       "         crime  \n",
       "0        16246  \n",
       "1        16246  \n",
       "2        16246  \n",
       "3        16246  \n",
       "4        16246  \n",
       "...        ...  \n",
       "1732870      8  \n",
       "1732871      8  \n",
       "1732872      8  \n",
       "1732873      8  \n",
       "1732874      8  \n",
       "\n",
       "[1732875 rows x 13 columns]"
      ]
     },
     "execution_count": 478,
     "metadata": {},
     "output_type": "execute_result"
    }
   ],
   "source": [
    "crime_11_12.rename(columns={0:'crime'})"
   ]
  },
  {
   "cell_type": "code",
   "execution_count": 479,
   "metadata": {},
   "outputs": [],
   "source": [
    "# df=pd.merge(crime_11_12, budget, on =\"month_year\", how = \"outer\")"
   ]
  },
  {
   "cell_type": "code",
   "execution_count": 480,
   "metadata": {},
   "outputs": [
    {
     "data": {
      "text/html": [
       "<div>\n",
       "<style scoped>\n",
       "    .dataframe tbody tr th:only-of-type {\n",
       "        vertical-align: middle;\n",
       "    }\n",
       "\n",
       "    .dataframe tbody tr th {\n",
       "        vertical-align: top;\n",
       "    }\n",
       "\n",
       "    .dataframe thead th {\n",
       "        text-align: right;\n",
       "    }\n",
       "</style>\n",
       "<table border=\"1\" class=\"dataframe\">\n",
       "  <thead>\n",
       "    <tr style=\"text-align: right;\">\n",
       "      <th></th>\n",
       "      <th>budget_fiscal_year</th>\n",
       "      <th>fiscal_year</th>\n",
       "      <th>fund_type</th>\n",
       "      <th>fund</th>\n",
       "      <th>account_group</th>\n",
       "      <th>account_type</th>\n",
       "      <th>account</th>\n",
       "      <th>activity</th>\n",
       "      <th>activity_name</th>\n",
       "      <th>activity_group</th>\n",
       "      <th>activity_group_name</th>\n",
       "      <th>total_expenditures</th>\n",
       "      <th>month_year</th>\n",
       "      <th>crime</th>\n",
       "    </tr>\n",
       "  </thead>\n",
       "  <tbody>\n",
       "    <tr>\n",
       "      <td>0</td>\n",
       "      <td>2008</td>\n",
       "      <td>2011</td>\n",
       "      <td>R</td>\n",
       "      <td>44D</td>\n",
       "      <td>UNK</td>\n",
       "      <td>2</td>\n",
       "      <td>70C436</td>\n",
       "      <td>9999</td>\n",
       "      <td>PROGRAM UNKNOWN</td>\n",
       "      <td>9</td>\n",
       "      <td>TEMPORARY ROLL UP</td>\n",
       "      <td>23389.03</td>\n",
       "      <td>2011-12</td>\n",
       "      <td>16246.0</td>\n",
       "    </tr>\n",
       "    <tr>\n",
       "      <td>1</td>\n",
       "      <td>2012</td>\n",
       "      <td>2011</td>\n",
       "      <td>R</td>\n",
       "      <td>554</td>\n",
       "      <td>UNK</td>\n",
       "      <td>2</td>\n",
       "      <td>70H110</td>\n",
       "      <td>UNK</td>\n",
       "      <td>NOT ENTERED</td>\n",
       "      <td>UNK</td>\n",
       "      <td>NOT ENTERED</td>\n",
       "      <td>0.00</td>\n",
       "      <td>2011-12</td>\n",
       "      <td>16246.0</td>\n",
       "    </tr>\n",
       "    <tr>\n",
       "      <td>2</td>\n",
       "      <td>2005</td>\n",
       "      <td>2011</td>\n",
       "      <td>R</td>\n",
       "      <td>44D</td>\n",
       "      <td>UNK</td>\n",
       "      <td>2</td>\n",
       "      <td>70W510</td>\n",
       "      <td>UNK</td>\n",
       "      <td>NOT ENTERED</td>\n",
       "      <td>UNK</td>\n",
       "      <td>NOT ENTERED</td>\n",
       "      <td>0.00</td>\n",
       "      <td>2011-12</td>\n",
       "      <td>16246.0</td>\n",
       "    </tr>\n",
       "    <tr>\n",
       "      <td>3</td>\n",
       "      <td>2011</td>\n",
       "      <td>2011</td>\n",
       "      <td>R</td>\n",
       "      <td>44E</td>\n",
       "      <td>UNK</td>\n",
       "      <td>2</td>\n",
       "      <td>70G514</td>\n",
       "      <td>UNK</td>\n",
       "      <td>NOT ENTERED</td>\n",
       "      <td>UNK</td>\n",
       "      <td>NOT ENTERED</td>\n",
       "      <td>0.00</td>\n",
       "      <td>2011-12</td>\n",
       "      <td>16246.0</td>\n",
       "    </tr>\n",
       "    <tr>\n",
       "      <td>4</td>\n",
       "      <td>2011</td>\n",
       "      <td>2011</td>\n",
       "      <td>R</td>\n",
       "      <td>339</td>\n",
       "      <td>UNK</td>\n",
       "      <td>2</td>\n",
       "      <td>70G499</td>\n",
       "      <td>UNK</td>\n",
       "      <td>NOT ENTERED</td>\n",
       "      <td>UNK</td>\n",
       "      <td>NOT ENTERED</td>\n",
       "      <td>0.00</td>\n",
       "      <td>2011-12</td>\n",
       "      <td>16246.0</td>\n",
       "    </tr>\n",
       "    <tr>\n",
       "      <td>...</td>\n",
       "      <td>...</td>\n",
       "      <td>...</td>\n",
       "      <td>...</td>\n",
       "      <td>...</td>\n",
       "      <td>...</td>\n",
       "      <td>...</td>\n",
       "      <td>...</td>\n",
       "      <td>...</td>\n",
       "      <td>...</td>\n",
       "      <td>...</td>\n",
       "      <td>...</td>\n",
       "      <td>...</td>\n",
       "      <td>...</td>\n",
       "      <td>...</td>\n",
       "    </tr>\n",
       "    <tr>\n",
       "      <td>31831</td>\n",
       "      <td>2020</td>\n",
       "      <td>2020</td>\n",
       "      <td>G</td>\n",
       "      <td>100</td>\n",
       "      <td>SAL</td>\n",
       "      <td>1</td>\n",
       "      <td>1090</td>\n",
       "      <td>7004</td>\n",
       "      <td>CUSTODY OF PERSONS AND PROPERTY</td>\n",
       "      <td>A</td>\n",
       "      <td>COMMUNITY SAFETY</td>\n",
       "      <td>25164.98</td>\n",
       "      <td>2020-10</td>\n",
       "      <td>NaN</td>\n",
       "    </tr>\n",
       "    <tr>\n",
       "      <td>31832</td>\n",
       "      <td>2020</td>\n",
       "      <td>2020</td>\n",
       "      <td>R</td>\n",
       "      <td>44D</td>\n",
       "      <td>UNK</td>\n",
       "      <td>UNK</td>\n",
       "      <td>UNK</td>\n",
       "      <td>UNK</td>\n",
       "      <td>NOT ENTERED</td>\n",
       "      <td>UNK</td>\n",
       "      <td>NOT ENTERED</td>\n",
       "      <td>0.00</td>\n",
       "      <td>2020-10</td>\n",
       "      <td>NaN</td>\n",
       "    </tr>\n",
       "    <tr>\n",
       "      <td>31833</td>\n",
       "      <td>2020</td>\n",
       "      <td>2020</td>\n",
       "      <td>G</td>\n",
       "      <td>100</td>\n",
       "      <td>EXP</td>\n",
       "      <td>1</td>\n",
       "      <td>4430</td>\n",
       "      <td>7048</td>\n",
       "      <td>OPERATIONAL SUPPORT</td>\n",
       "      <td>A</td>\n",
       "      <td>COMMUNITY SAFETY</td>\n",
       "      <td>108939.96</td>\n",
       "      <td>2020-10</td>\n",
       "      <td>NaN</td>\n",
       "    </tr>\n",
       "    <tr>\n",
       "      <td>31834</td>\n",
       "      <td>2020</td>\n",
       "      <td>2020</td>\n",
       "      <td>G</td>\n",
       "      <td>100</td>\n",
       "      <td>SAL</td>\n",
       "      <td>1</td>\n",
       "      <td>1092</td>\n",
       "      <td>9999</td>\n",
       "      <td>PROGRAM UNKNOWN</td>\n",
       "      <td>9</td>\n",
       "      <td>TEMPORARY ROLL UP</td>\n",
       "      <td>504.30</td>\n",
       "      <td>2020-10</td>\n",
       "      <td>NaN</td>\n",
       "    </tr>\n",
       "    <tr>\n",
       "      <td>31835</td>\n",
       "      <td>2020</td>\n",
       "      <td>2020</td>\n",
       "      <td>G</td>\n",
       "      <td>100</td>\n",
       "      <td>UNK</td>\n",
       "      <td>UNK</td>\n",
       "      <td>UNK</td>\n",
       "      <td>UNK</td>\n",
       "      <td>NOT ENTERED</td>\n",
       "      <td>UNK</td>\n",
       "      <td>NOT ENTERED</td>\n",
       "      <td>0.00</td>\n",
       "      <td>2020-10</td>\n",
       "      <td>NaN</td>\n",
       "    </tr>\n",
       "  </tbody>\n",
       "</table>\n",
       "<p>31836 rows × 14 columns</p>\n",
       "</div>"
      ],
      "text/plain": [
       "       budget_fiscal_year  fiscal_year fund_type fund account_group  \\\n",
       "0                    2008         2011         R  44D           UNK   \n",
       "1                    2012         2011         R  554           UNK   \n",
       "2                    2005         2011         R  44D           UNK   \n",
       "3                    2011         2011         R  44E           UNK   \n",
       "4                    2011         2011         R  339           UNK   \n",
       "...                   ...          ...       ...  ...           ...   \n",
       "31831                2020         2020         G  100           SAL   \n",
       "31832                2020         2020         R  44D           UNK   \n",
       "31833                2020         2020         G  100           EXP   \n",
       "31834                2020         2020         G  100           SAL   \n",
       "31835                2020         2020         G  100           UNK   \n",
       "\n",
       "      account_type account activity                    activity_name  \\\n",
       "0                2  70C436     9999                  PROGRAM UNKNOWN   \n",
       "1                2  70H110      UNK                      NOT ENTERED   \n",
       "2                2  70W510      UNK                      NOT ENTERED   \n",
       "3                2  70G514      UNK                      NOT ENTERED   \n",
       "4                2  70G499      UNK                      NOT ENTERED   \n",
       "...            ...     ...      ...                              ...   \n",
       "31831            1    1090     7004  CUSTODY OF PERSONS AND PROPERTY   \n",
       "31832          UNK     UNK      UNK                      NOT ENTERED   \n",
       "31833            1    4430     7048              OPERATIONAL SUPPORT   \n",
       "31834            1    1092     9999                  PROGRAM UNKNOWN   \n",
       "31835          UNK     UNK      UNK                      NOT ENTERED   \n",
       "\n",
       "      activity_group activity_group_name  total_expenditures month_year  \\\n",
       "0                  9   TEMPORARY ROLL UP            23389.03    2011-12   \n",
       "1                UNK         NOT ENTERED                0.00    2011-12   \n",
       "2                UNK         NOT ENTERED                0.00    2011-12   \n",
       "3                UNK         NOT ENTERED                0.00    2011-12   \n",
       "4                UNK         NOT ENTERED                0.00    2011-12   \n",
       "...              ...                 ...                 ...        ...   \n",
       "31831              A    COMMUNITY SAFETY            25164.98    2020-10   \n",
       "31832            UNK         NOT ENTERED                0.00    2020-10   \n",
       "31833              A    COMMUNITY SAFETY           108939.96    2020-10   \n",
       "31834              9   TEMPORARY ROLL UP              504.30    2020-10   \n",
       "31835            UNK         NOT ENTERED                0.00    2020-10   \n",
       "\n",
       "         crime  \n",
       "0      16246.0  \n",
       "1      16246.0  \n",
       "2      16246.0  \n",
       "3      16246.0  \n",
       "4      16246.0  \n",
       "...        ...  \n",
       "31831      NaN  \n",
       "31832      NaN  \n",
       "31833      NaN  \n",
       "31834      NaN  \n",
       "31835      NaN  \n",
       "\n",
       "[31836 rows x 14 columns]"
      ]
     },
     "execution_count": 480,
     "metadata": {},
     "output_type": "execute_result"
    }
   ],
   "source": [
    "budget=pd.merge(budget, total,  on='month_year',how='left')\n",
    "budget.rename(columns={0:'crime'})"
   ]
  },
  {
   "cell_type": "code",
   "execution_count": null,
   "metadata": {},
   "outputs": [],
   "source": []
  },
  {
   "cell_type": "code",
   "execution_count": null,
   "metadata": {},
   "outputs": [],
   "source": []
  },
  {
   "cell_type": "code",
   "execution_count": null,
   "metadata": {},
   "outputs": [],
   "source": []
  },
  {
   "cell_type": "code",
   "execution_count": null,
   "metadata": {},
   "outputs": [],
   "source": []
  }
 ],
 "metadata": {
  "kernelspec": {
   "display_name": "Python 3",
   "language": "python",
   "name": "python3"
  },
  "language_info": {
   "codemirror_mode": {
    "name": "ipython",
    "version": 3
   },
   "file_extension": ".py",
   "mimetype": "text/x-python",
   "name": "python",
   "nbconvert_exporter": "python",
   "pygments_lexer": "ipython3",
   "version": "3.7.4"
  }
 },
 "nbformat": 4,
 "nbformat_minor": 2
}
