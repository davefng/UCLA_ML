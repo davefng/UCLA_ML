{
 "cells": [
  {
   "cell_type": "code",
   "execution_count": 111,
   "metadata": {},
   "outputs": [],
   "source": [
    "import numpy as np\n",
    "import pandas as pd\n",
    "import matplotlib.pyplot as plt"
   ]
  },
  {
   "cell_type": "code",
   "execution_count": 112,
   "metadata": {},
   "outputs": [],
   "source": [
    "crime=pd.read_csv(r'C:\\Users\\Rachel\\Desktop\\ML\\final\\crime.csv')"
   ]
  },
  {
   "cell_type": "code",
   "execution_count": 113,
   "metadata": {
    "scrolled": false
   },
   "outputs": [
    {
     "data": {
      "text/html": [
       "<div>\n",
       "<style scoped>\n",
       "    .dataframe tbody tr th:only-of-type {\n",
       "        vertical-align: middle;\n",
       "    }\n",
       "\n",
       "    .dataframe tbody tr th {\n",
       "        vertical-align: top;\n",
       "    }\n",
       "\n",
       "    .dataframe thead th {\n",
       "        text-align: right;\n",
       "    }\n",
       "</style>\n",
       "<table border=\"1\" class=\"dataframe\">\n",
       "  <thead>\n",
       "    <tr style=\"text-align: right;\">\n",
       "      <th></th>\n",
       "      <th>DR_NO</th>\n",
       "      <th>Date Rptd</th>\n",
       "      <th>DATE OCC</th>\n",
       "      <th>TIME OCC</th>\n",
       "      <th>AREA</th>\n",
       "      <th>AREA NAME</th>\n",
       "      <th>Rpt Dist No</th>\n",
       "      <th>Part 1-2</th>\n",
       "      <th>Crm Cd</th>\n",
       "      <th>Crm Cd Desc</th>\n",
       "      <th>...</th>\n",
       "      <th>Status</th>\n",
       "      <th>Status Desc</th>\n",
       "      <th>Crm Cd 1</th>\n",
       "      <th>Crm Cd 2</th>\n",
       "      <th>Crm Cd 3</th>\n",
       "      <th>Crm Cd 4</th>\n",
       "      <th>LOCATION</th>\n",
       "      <th>Cross Street</th>\n",
       "      <th>LAT</th>\n",
       "      <th>LON</th>\n",
       "    </tr>\n",
       "  </thead>\n",
       "  <tbody>\n",
       "    <tr>\n",
       "      <td>0</td>\n",
       "      <td>10304468</td>\n",
       "      <td>01/08/2020 12:00:00 AM</td>\n",
       "      <td>01/08/2020 12:00:00 AM</td>\n",
       "      <td>2230</td>\n",
       "      <td>3</td>\n",
       "      <td>Southwest</td>\n",
       "      <td>377</td>\n",
       "      <td>2</td>\n",
       "      <td>624</td>\n",
       "      <td>BATTERY - SIMPLE ASSAULT</td>\n",
       "      <td>...</td>\n",
       "      <td>AO</td>\n",
       "      <td>Adult Other</td>\n",
       "      <td>624.0</td>\n",
       "      <td>NaN</td>\n",
       "      <td>NaN</td>\n",
       "      <td>NaN</td>\n",
       "      <td>1100 W  39TH                         PL</td>\n",
       "      <td>NaN</td>\n",
       "      <td>34.0141</td>\n",
       "      <td>-118.2978</td>\n",
       "    </tr>\n",
       "    <tr>\n",
       "      <td>1</td>\n",
       "      <td>190101086</td>\n",
       "      <td>01/02/2020 12:00:00 AM</td>\n",
       "      <td>01/01/2020 12:00:00 AM</td>\n",
       "      <td>330</td>\n",
       "      <td>1</td>\n",
       "      <td>Central</td>\n",
       "      <td>163</td>\n",
       "      <td>2</td>\n",
       "      <td>624</td>\n",
       "      <td>BATTERY - SIMPLE ASSAULT</td>\n",
       "      <td>...</td>\n",
       "      <td>IC</td>\n",
       "      <td>Invest Cont</td>\n",
       "      <td>624.0</td>\n",
       "      <td>NaN</td>\n",
       "      <td>NaN</td>\n",
       "      <td>NaN</td>\n",
       "      <td>700 S  HILL                         ST</td>\n",
       "      <td>NaN</td>\n",
       "      <td>34.0459</td>\n",
       "      <td>-118.2545</td>\n",
       "    </tr>\n",
       "  </tbody>\n",
       "</table>\n",
       "<p>2 rows × 28 columns</p>\n",
       "</div>"
      ],
      "text/plain": [
       "       DR_NO               Date Rptd                DATE OCC  TIME OCC  AREA  \\\n",
       "0   10304468  01/08/2020 12:00:00 AM  01/08/2020 12:00:00 AM      2230     3   \n",
       "1  190101086  01/02/2020 12:00:00 AM  01/01/2020 12:00:00 AM       330     1   \n",
       "\n",
       "   AREA NAME  Rpt Dist No  Part 1-2  Crm Cd               Crm Cd Desc  ...  \\\n",
       "0  Southwest          377         2     624  BATTERY - SIMPLE ASSAULT  ...   \n",
       "1    Central          163         2     624  BATTERY - SIMPLE ASSAULT  ...   \n",
       "\n",
       "  Status  Status Desc Crm Cd 1 Crm Cd 2  Crm Cd 3 Crm Cd 4  \\\n",
       "0     AO  Adult Other    624.0      NaN       NaN      NaN   \n",
       "1     IC  Invest Cont    624.0      NaN       NaN      NaN   \n",
       "\n",
       "                                  LOCATION Cross Street      LAT       LON  \n",
       "0  1100 W  39TH                         PL          NaN  34.0141 -118.2978  \n",
       "1   700 S  HILL                         ST          NaN  34.0459 -118.2545  \n",
       "\n",
       "[2 rows x 28 columns]"
      ]
     },
     "execution_count": 113,
     "metadata": {},
     "output_type": "execute_result"
    }
   ],
   "source": [
    "crime.head(2)"
   ]
  },
  {
   "cell_type": "code",
   "execution_count": 115,
   "metadata": {},
   "outputs": [
    {
     "data": {
      "text/plain": [
       "Index(['DR_NO', 'Date Rptd', 'DATE OCC', 'TIME OCC', 'AREA', 'AREA NAME',\n",
       "       'Rpt Dist No', 'Part 1-2', 'Crm Cd', 'Crm Cd Desc', 'Mocodes',\n",
       "       'Vict Age', 'Vict Sex', 'Vict Descent', 'Premis Cd', 'Premis Desc',\n",
       "       'Weapon Used Cd', 'Weapon Desc', 'Status', 'Status Desc', 'Crm Cd 1',\n",
       "       'Crm Cd 2', 'Crm Cd 3', 'Crm Cd 4', 'LOCATION', 'Cross Street', 'LAT',\n",
       "       'LON'],\n",
       "      dtype='object')"
      ]
     },
     "execution_count": 115,
     "metadata": {},
     "output_type": "execute_result"
    }
   ],
   "source": [
    "crime.columns"
   ]
  },
  {
   "cell_type": "code",
   "execution_count": 116,
   "metadata": {},
   "outputs": [],
   "source": [
    "labels=crime[['AREA', 'AREA NAME', 'Crm Cd','Crm Cd Desc', 'Premis Cd','Premis Desc','Weapon Used Cd', 'Weapon Desc','Status','Status Desc']]"
   ]
  },
  {
   "cell_type": "code",
   "execution_count": 117,
   "metadata": {},
   "outputs": [],
   "source": [
    "crime=crime.drop(['DATE OCC', 'AREA NAME',\n",
    "       'Crm Cd Desc','TIME OCC' ,'Mocodes',\n",
    "        'Vict Descent',  'Premis Desc',\n",
    "        'Weapon Desc',  'Status Desc', 'Crm Cd 1',\n",
    "       'Crm Cd 2', 'Crm Cd 3', 'Crm Cd 4', 'Cross Street', 'LAT','LON'], axis=1)"
   ]
  },
  {
   "cell_type": "code",
   "execution_count": 118,
   "metadata": {
    "scrolled": true
   },
   "outputs": [
    {
     "data": {
      "text/plain": [
       "Index(['DR_NO', 'Date Rptd', 'AREA', 'Rpt Dist No', 'Part 1-2', 'Crm Cd',\n",
       "       'Vict Age', 'Vict Sex', 'Premis Cd', 'Weapon Used Cd', 'Status',\n",
       "       'LOCATION'],\n",
       "      dtype='object')"
      ]
     },
     "execution_count": 118,
     "metadata": {},
     "output_type": "execute_result"
    }
   ],
   "source": [
    "crime.columns"
   ]
  },
  {
   "cell_type": "code",
   "execution_count": 119,
   "metadata": {},
   "outputs": [],
   "source": [
    "crime=crime.rename(columns={'DR_NO':'id', 'Date Rptd':'date', 'AREA':'area', 'Rpt Dist No':'district_number', 'Part 1-2':'part', 'Crm Cd':'crime_code', \n",
    "       'Vict Age':'age', 'Vict Sex':'sex', 'Vict Descent':'descent', 'Premis Cd':'premis', \n",
    "       'Weapon Used Cd':'weapon', 'Status':'status', 'LOCATION':'location'})"
   ]
  },
  {
   "cell_type": "code",
   "execution_count": 120,
   "metadata": {},
   "outputs": [
    {
     "name": "stdout",
     "output_type": "stream",
     "text": [
      "<class 'pandas.core.frame.DataFrame'>\n",
      "RangeIndex: 110824 entries, 0 to 110823\n",
      "Data columns (total 12 columns):\n",
      "id                 110824 non-null int64\n",
      "date               110824 non-null object\n",
      "area               110824 non-null int64\n",
      "district_number    110824 non-null int64\n",
      "part               110824 non-null int64\n",
      "crime_code         110824 non-null int64\n",
      "age                110824 non-null int64\n",
      "sex                96849 non-null object\n",
      "premis             110823 non-null float64\n",
      "weapon             40601 non-null float64\n",
      "status             110824 non-null object\n",
      "location           110824 non-null object\n",
      "dtypes: float64(2), int64(6), object(4)\n",
      "memory usage: 10.1+ MB\n"
     ]
    }
   ],
   "source": [
    "crime.info()"
   ]
  },
  {
   "cell_type": "code",
   "execution_count": 121,
   "metadata": {
    "scrolled": true
   },
   "outputs": [
    {
     "data": {
      "text/plain": [
       "id                     0\n",
       "date                   0\n",
       "area                   0\n",
       "district_number        0\n",
       "part                   0\n",
       "crime_code             0\n",
       "age                    0\n",
       "sex                13975\n",
       "premis                 1\n",
       "weapon             70223\n",
       "status                 0\n",
       "location               0\n",
       "dtype: int64"
      ]
     },
     "execution_count": 121,
     "metadata": {},
     "output_type": "execute_result"
    }
   ],
   "source": [
    "crime.isnull().sum()"
   ]
  },
  {
   "cell_type": "code",
   "execution_count": 122,
   "metadata": {},
   "outputs": [],
   "source": [
    "token='N'\n",
    "crime.sex=crime.sex.fillna(token)"
   ]
  },
  {
   "cell_type": "code",
   "execution_count": 123,
   "metadata": {},
   "outputs": [],
   "source": [
    "crime.weapon=crime.weapon.fillna(token)"
   ]
  },
  {
   "cell_type": "code",
   "execution_count": 127,
   "metadata": {},
   "outputs": [
    {
     "data": {
      "text/plain": [
       "id                 0\n",
       "date               0\n",
       "area               0\n",
       "district_number    0\n",
       "part               0\n",
       "crime_code         0\n",
       "age                0\n",
       "sex                0\n",
       "premis             0\n",
       "weapon             0\n",
       "status             0\n",
       "location           0\n",
       "dtype: int64"
      ]
     },
     "execution_count": 127,
     "metadata": {},
     "output_type": "execute_result"
    }
   ],
   "source": [
    "crime=crime.dropna(how='any')\n",
    "crime.isnull().sum()"
   ]
  },
  {
   "cell_type": "code",
   "execution_count": 128,
   "metadata": {
    "scrolled": true
   },
   "outputs": [],
   "source": [
    "crime['date'] = pd.to_datetime(crime['date'])"
   ]
  },
  {
   "cell_type": "code",
   "execution_count": 129,
   "metadata": {},
   "outputs": [
    {
     "data": {
      "text/html": [
       "<div>\n",
       "<style scoped>\n",
       "    .dataframe tbody tr th:only-of-type {\n",
       "        vertical-align: middle;\n",
       "    }\n",
       "\n",
       "    .dataframe tbody tr th {\n",
       "        vertical-align: top;\n",
       "    }\n",
       "\n",
       "    .dataframe thead th {\n",
       "        text-align: right;\n",
       "    }\n",
       "</style>\n",
       "<table border=\"1\" class=\"dataframe\">\n",
       "  <thead>\n",
       "    <tr style=\"text-align: right;\">\n",
       "      <th></th>\n",
       "      <th>id</th>\n",
       "      <th>date</th>\n",
       "      <th>area</th>\n",
       "      <th>district_number</th>\n",
       "      <th>part</th>\n",
       "      <th>crime_code</th>\n",
       "      <th>age</th>\n",
       "      <th>sex</th>\n",
       "      <th>premis</th>\n",
       "      <th>weapon</th>\n",
       "      <th>status</th>\n",
       "      <th>location</th>\n",
       "    </tr>\n",
       "  </thead>\n",
       "  <tbody>\n",
       "    <tr>\n",
       "      <td>0</td>\n",
       "      <td>10304468</td>\n",
       "      <td>2020-01-08</td>\n",
       "      <td>3</td>\n",
       "      <td>377</td>\n",
       "      <td>2</td>\n",
       "      <td>624</td>\n",
       "      <td>36</td>\n",
       "      <td>F</td>\n",
       "      <td>501.0</td>\n",
       "      <td>400</td>\n",
       "      <td>AO</td>\n",
       "      <td>1100 W  39TH                         PL</td>\n",
       "    </tr>\n",
       "    <tr>\n",
       "      <td>1</td>\n",
       "      <td>190101086</td>\n",
       "      <td>2020-01-02</td>\n",
       "      <td>1</td>\n",
       "      <td>163</td>\n",
       "      <td>2</td>\n",
       "      <td>624</td>\n",
       "      <td>25</td>\n",
       "      <td>M</td>\n",
       "      <td>102.0</td>\n",
       "      <td>500</td>\n",
       "      <td>IC</td>\n",
       "      <td>700 S  HILL                         ST</td>\n",
       "    </tr>\n",
       "    <tr>\n",
       "      <td>2</td>\n",
       "      <td>190101087</td>\n",
       "      <td>2020-01-02</td>\n",
       "      <td>1</td>\n",
       "      <td>156</td>\n",
       "      <td>2</td>\n",
       "      <td>626</td>\n",
       "      <td>53</td>\n",
       "      <td>F</td>\n",
       "      <td>502.0</td>\n",
       "      <td>400</td>\n",
       "      <td>IC</td>\n",
       "      <td>300 E  5TH                          ST</td>\n",
       "    </tr>\n",
       "    <tr>\n",
       "      <td>3</td>\n",
       "      <td>191501505</td>\n",
       "      <td>2020-01-01</td>\n",
       "      <td>15</td>\n",
       "      <td>1543</td>\n",
       "      <td>2</td>\n",
       "      <td>745</td>\n",
       "      <td>76</td>\n",
       "      <td>F</td>\n",
       "      <td>502.0</td>\n",
       "      <td>N</td>\n",
       "      <td>IC</td>\n",
       "      <td>5400    CORTEEN                      PL</td>\n",
       "    </tr>\n",
       "    <tr>\n",
       "      <td>4</td>\n",
       "      <td>191921269</td>\n",
       "      <td>2020-01-01</td>\n",
       "      <td>19</td>\n",
       "      <td>1998</td>\n",
       "      <td>2</td>\n",
       "      <td>740</td>\n",
       "      <td>31</td>\n",
       "      <td>X</td>\n",
       "      <td>409.0</td>\n",
       "      <td>N</td>\n",
       "      <td>IC</td>\n",
       "      <td>14400    TITUS                        ST</td>\n",
       "    </tr>\n",
       "  </tbody>\n",
       "</table>\n",
       "</div>"
      ],
      "text/plain": [
       "          id       date  area  district_number  part  crime_code  age sex  \\\n",
       "0   10304468 2020-01-08     3              377     2         624   36   F   \n",
       "1  190101086 2020-01-02     1              163     2         624   25   M   \n",
       "2  190101087 2020-01-02     1              156     2         626   53   F   \n",
       "3  191501505 2020-01-01    15             1543     2         745   76   F   \n",
       "4  191921269 2020-01-01    19             1998     2         740   31   X   \n",
       "\n",
       "   premis weapon status                                  location  \n",
       "0   501.0    400     AO   1100 W  39TH                         PL  \n",
       "1   102.0    500     IC    700 S  HILL                         ST  \n",
       "2   502.0    400     IC    300 E  5TH                          ST  \n",
       "3   502.0      N     IC   5400    CORTEEN                      PL  \n",
       "4   409.0      N     IC  14400    TITUS                        ST  "
      ]
     },
     "execution_count": 129,
     "metadata": {},
     "output_type": "execute_result"
    }
   ],
   "source": [
    "crime.head()"
   ]
  },
  {
   "cell_type": "markdown",
   "metadata": {},
   "source": [
    "## spending"
   ]
  },
  {
   "cell_type": "code",
   "execution_count": 109,
   "metadata": {},
   "outputs": [],
   "source": [
    "spending=pd.read_csv(r'C:\\Users\\Rachel\\Desktop\\ML\\final\\spending.csv')"
   ]
  },
  {
   "cell_type": "code",
   "execution_count": 156,
   "metadata": {
    "scrolled": true
   },
   "outputs": [
    {
     "data": {
      "text/plain": [
       "(368994, 62)"
      ]
     },
     "execution_count": 156,
     "metadata": {},
     "output_type": "execute_result"
    }
   ],
   "source": [
    "spending.shape"
   ]
  },
  {
   "cell_type": "code",
   "execution_count": null,
   "metadata": {},
   "outputs": [],
   "source": [
    "pd.set_option('display.max_columns', None)"
   ]
  },
  {
   "cell_type": "code",
   "execution_count": null,
   "metadata": {},
   "outputs": [],
   "source": []
  },
  {
   "cell_type": "code",
   "execution_count": 157,
   "metadata": {
    "scrolled": true
   },
   "outputs": [
    {
     "data": {
      "text/plain": [
       "ID NUMBER                                     0\n",
       "FISCAL YEAR                                   0\n",
       "DEPARTMENT NAME                               0\n",
       "VENDOR NAME                                   0\n",
       "TRANSACTION DATE                              0\n",
       "DOLLAR AMOUNT                                 0\n",
       "AUTHORITY                                176355\n",
       "BUSINESS TAX REGISTRATION CERTIFICATE     26609\n",
       "GOVERNMENT ACTIVITY                           0\n",
       "FUND GROUP NAME                               0\n",
       "FUND TYPE                                     0\n",
       "FUND NAME                                     0\n",
       "FUND                                          0\n",
       "ACCOUNT NAME                                  0\n",
       "ACCOUNT CODE                                  0\n",
       "TRANSACTION ID                                0\n",
       "EXPENDITURE TYPE                              0\n",
       "SETTLEMENT/JUDGMENT                      368988\n",
       "FISCAL MONTH NUMBER                           0\n",
       "FISCAL YEAR-MONTH                             0\n",
       "FISCAL YEAR-QUARTER                           0\n",
       "CALENDAR MONTH NUMBER                         0\n",
       "CALENDAR MONTH/YEAR                           0\n",
       "CALENDAR MONTH                                0\n",
       "DATA SOURCE                                   0\n",
       "AUTHORITY NAME                           115884\n",
       "AUTHORITY LINK                           354061\n",
       "DEPARTMENT NUMBER                             0\n",
       "PROGRAM                                       0\n",
       "VENDOR ID                                     0\n",
       "dtype: int64"
      ]
     },
     "execution_count": 157,
     "metadata": {},
     "output_type": "execute_result"
    }
   ],
   "source": [
    "spending.iloc[:,:30].isnull().sum()"
   ]
  },
  {
   "cell_type": "code",
   "execution_count": 159,
   "metadata": {
    "scrolled": true
   },
   "outputs": [
    {
     "data": {
      "text/plain": [
       "ZIP                           64102\n",
       "PAYMENT METHOD                    0\n",
       "PAYMENT STATUS                    0\n",
       "INV NUM                           0\n",
       "INVOICE DUE DATE              61082\n",
       "INVOICE DISCOUNT DUE DATE    192854\n",
       "INV DATE                       1600\n",
       "INV LINE                         24\n",
       "INVOICE DISTRIBUTION LINE         0\n",
       "PO NUM                         7060\n",
       "DESCRIPTION                   13110\n",
       "DETAILED ITEM DESCRIPTION     42541\n",
       "UNIT PRICE                    53027\n",
       "UNIT OF MEASURE              165208\n",
       "QUANTITY                      53027\n",
       "SALES TAX PERCENT             53027\n",
       "SALES TAX                     53027\n",
       "DISCOUNT                      42352\n",
       "RECEIVER ID                   60953\n",
       "PO DATE                       44153\n",
       "PO LINE NUMBER                    7\n",
       "PROCUREMENT ORGANIZATION      60892\n",
       "BUYER NAME                    60971\n",
       "SUPPLIER CITY                 73279\n",
       "SUPPLIER COUNTRY              69016\n",
       "BU NAME                       42352\n",
       "SITE LOCATION                 60892\n",
       "ITEM CODE                     61082\n",
       "ITEM CODE NAME                61082\n",
       "CURRENCY                      42352\n",
       "VALUE OF SPEND                60892\n",
       "VENDOR NUM                        0\n",
       "dtype: int64"
      ]
     },
     "execution_count": 159,
     "metadata": {},
     "output_type": "execute_result"
    }
   ],
   "source": [
    "spending.iloc[:,30:].isnull().sum()"
   ]
  },
  {
   "cell_type": "code",
   "execution_count": null,
   "metadata": {},
   "outputs": [],
   "source": [
    "labels=spending(['ITEM CODE NAME','ITEM CODE'])"
   ]
  },
  {
   "cell_type": "code",
   "execution_count": 160,
   "metadata": {},
   "outputs": [
    {
     "data": {
      "text/plain": [
       "Index(['ID NUMBER', 'FISCAL YEAR', 'DEPARTMENT NAME', 'VENDOR NAME',\n",
       "       'TRANSACTION DATE', 'DOLLAR AMOUNT', 'AUTHORITY',\n",
       "       'BUSINESS TAX REGISTRATION CERTIFICATE', 'GOVERNMENT ACTIVITY',\n",
       "       'FUND GROUP NAME', 'FUND TYPE', 'FUND NAME', 'FUND', 'ACCOUNT NAME',\n",
       "       'ACCOUNT CODE', 'TRANSACTION ID', 'EXPENDITURE TYPE',\n",
       "       'SETTLEMENT/JUDGMENT', 'FISCAL MONTH NUMBER', 'FISCAL YEAR-MONTH',\n",
       "       'FISCAL YEAR-QUARTER', 'CALENDAR MONTH NUMBER', 'CALENDAR MONTH/YEAR',\n",
       "       'CALENDAR MONTH', 'DATA SOURCE', 'AUTHORITY NAME', 'AUTHORITY LINK',\n",
       "       'DEPARTMENT NUMBER', 'PROGRAM', 'VENDOR ID', 'ZIP', 'PAYMENT METHOD',\n",
       "       'PAYMENT STATUS', 'INV NUM', 'INVOICE DUE DATE',\n",
       "       'INVOICE DISCOUNT DUE DATE', 'INV DATE', 'INV LINE',\n",
       "       'INVOICE DISTRIBUTION LINE', 'PO NUM', 'DESCRIPTION',\n",
       "       'DETAILED ITEM DESCRIPTION', 'UNIT PRICE', 'UNIT OF MEASURE',\n",
       "       'QUANTITY', 'SALES TAX PERCENT', 'SALES TAX', 'DISCOUNT', 'RECEIVER ID',\n",
       "       'PO DATE', 'PO LINE NUMBER', 'PROCUREMENT ORGANIZATION', 'BUYER NAME',\n",
       "       'SUPPLIER CITY', 'SUPPLIER COUNTRY', 'BU NAME', 'SITE LOCATION',\n",
       "       'ITEM CODE', 'ITEM CODE NAME', 'CURRENCY', 'VALUE OF SPEND',\n",
       "       'VENDOR NUM'],\n",
       "      dtype='object')"
      ]
     },
     "execution_count": 160,
     "metadata": {},
     "output_type": "execute_result"
    }
   ],
   "source": [
    "spending.columns"
   ]
  },
  {
   "cell_type": "code",
   "execution_count": 165,
   "metadata": {},
   "outputs": [],
   "source": [
    "spending=spending.drop(['SETTLEMENT/JUDGMENT','AUTHORITY LINK','AUTHORITY','AUTHORITY NAME','INVOICE DISCOUNT DUE DATE','UNIT OF MEASURE','INVOICE DUE DATE','BU NAME','CURRENCY'], axis=1)"
   ]
  },
  {
   "cell_type": "code",
   "execution_count": 166,
   "metadata": {
    "scrolled": true
   },
   "outputs": [
    {
     "data": {
      "text/plain": [
       "ID NUMBER                                    0\n",
       "FISCAL YEAR                                  0\n",
       "DEPARTMENT NAME                              0\n",
       "VENDOR NAME                                  0\n",
       "TRANSACTION DATE                             0\n",
       "DOLLAR AMOUNT                                0\n",
       "BUSINESS TAX REGISTRATION CERTIFICATE    26609\n",
       "GOVERNMENT ACTIVITY                          0\n",
       "FUND GROUP NAME                              0\n",
       "FUND TYPE                                    0\n",
       "FUND NAME                                    0\n",
       "FUND                                         0\n",
       "ACCOUNT NAME                                 0\n",
       "ACCOUNT CODE                                 0\n",
       "TRANSACTION ID                               0\n",
       "EXPENDITURE TYPE                             0\n",
       "FISCAL MONTH NUMBER                          0\n",
       "FISCAL YEAR-MONTH                            0\n",
       "FISCAL YEAR-QUARTER                          0\n",
       "CALENDAR MONTH NUMBER                        0\n",
       "CALENDAR MONTH/YEAR                          0\n",
       "CALENDAR MONTH                               0\n",
       "DATA SOURCE                                  0\n",
       "DEPARTMENT NUMBER                            0\n",
       "PROGRAM                                      0\n",
       "VENDOR ID                                    0\n",
       "ZIP                                      64102\n",
       "PAYMENT METHOD                               0\n",
       "PAYMENT STATUS                               0\n",
       "INV NUM                                      0\n",
       "INV DATE                                  1600\n",
       "INV LINE                                    24\n",
       "INVOICE DISTRIBUTION LINE                    0\n",
       "PO NUM                                    7060\n",
       "DESCRIPTION                              13110\n",
       "DETAILED ITEM DESCRIPTION                42541\n",
       "UNIT PRICE                               53027\n",
       "QUANTITY                                 53027\n",
       "SALES TAX PERCENT                        53027\n",
       "SALES TAX                                53027\n",
       "DISCOUNT                                 42352\n",
       "RECEIVER ID                              60953\n",
       "PO DATE                                  44153\n",
       "PO LINE NUMBER                               7\n",
       "PROCUREMENT ORGANIZATION                 60892\n",
       "BUYER NAME                               60971\n",
       "SUPPLIER CITY                            73279\n",
       "SUPPLIER COUNTRY                         69016\n",
       "SITE LOCATION                            60892\n",
       "ITEM CODE                                61082\n",
       "ITEM CODE NAME                           61082\n",
       "VALUE OF SPEND                           60892\n",
       "VENDOR NUM                                   0\n",
       "dtype: int64"
      ]
     },
     "execution_count": 166,
     "metadata": {},
     "output_type": "execute_result"
    }
   ],
   "source": [
    "spending.isnull().sum()"
   ]
  },
  {
   "cell_type": "code",
   "execution_count": 168,
   "metadata": {},
   "outputs": [
    {
     "name": "stdout",
     "output_type": "stream",
     "text": [
      "<class 'pandas.core.frame.DataFrame'>\n",
      "RangeIndex: 368994 entries, 0 to 368993\n",
      "Data columns (total 53 columns):\n",
      "ID NUMBER                                368994 non-null int64\n",
      "FISCAL YEAR                              368994 non-null int64\n",
      "DEPARTMENT NAME                          368994 non-null object\n",
      "VENDOR NAME                              368994 non-null object\n",
      "TRANSACTION DATE                         368994 non-null object\n",
      "DOLLAR AMOUNT                            368994 non-null object\n",
      "BUSINESS TAX REGISTRATION CERTIFICATE    342385 non-null object\n",
      "GOVERNMENT ACTIVITY                      368994 non-null object\n",
      "FUND GROUP NAME                          368994 non-null object\n",
      "FUND TYPE                                368994 non-null object\n",
      "FUND NAME                                368994 non-null object\n",
      "FUND                                     368994 non-null object\n",
      "ACCOUNT NAME                             368994 non-null object\n",
      "ACCOUNT CODE                             368994 non-null object\n",
      "TRANSACTION ID                           368994 non-null object\n",
      "EXPENDITURE TYPE                         368994 non-null object\n",
      "FISCAL MONTH NUMBER                      368994 non-null int64\n",
      "FISCAL YEAR-MONTH                        368994 non-null object\n",
      "FISCAL YEAR-QUARTER                      368994 non-null object\n",
      "CALENDAR MONTH NUMBER                    368994 non-null int64\n",
      "CALENDAR MONTH/YEAR                      368994 non-null object\n",
      "CALENDAR MONTH                           368994 non-null object\n",
      "DATA SOURCE                              368994 non-null object\n",
      "DEPARTMENT NUMBER                        368994 non-null int64\n",
      "PROGRAM                                  368994 non-null object\n",
      "VENDOR ID                                368994 non-null object\n",
      "ZIP                                      304892 non-null object\n",
      "PAYMENT METHOD                           368994 non-null object\n",
      "PAYMENT STATUS                           368994 non-null object\n",
      "INV NUM                                  368994 non-null object\n",
      "INV DATE                                 367394 non-null object\n",
      "INV LINE                                 368970 non-null object\n",
      "INVOICE DISTRIBUTION LINE                368994 non-null int64\n",
      "PO NUM                                   361934 non-null object\n",
      "DESCRIPTION                              355884 non-null object\n",
      "DETAILED ITEM DESCRIPTION                326453 non-null object\n",
      "UNIT PRICE                               315967 non-null object\n",
      "QUANTITY                                 315967 non-null object\n",
      "SALES TAX PERCENT                        315967 non-null float64\n",
      "SALES TAX                                315967 non-null object\n",
      "DISCOUNT                                 326642 non-null object\n",
      "RECEIVER ID                              308041 non-null object\n",
      "PO DATE                                  324841 non-null object\n",
      "PO LINE NUMBER                           368987 non-null float64\n",
      "PROCUREMENT ORGANIZATION                 308102 non-null object\n",
      "BUYER NAME                               308023 non-null object\n",
      "SUPPLIER CITY                            295715 non-null object\n",
      "SUPPLIER COUNTRY                         299978 non-null object\n",
      "SITE LOCATION                            308102 non-null object\n",
      "ITEM CODE                                307912 non-null float64\n",
      "ITEM CODE NAME                           307912 non-null object\n",
      "VALUE OF SPEND                           308102 non-null object\n",
      "VENDOR NUM                               368994 non-null object\n",
      "dtypes: float64(3), int64(6), object(44)\n",
      "memory usage: 149.2+ MB\n"
     ]
    }
   ],
   "source": [
    "spending.info()"
   ]
  },
  {
   "cell_type": "code",
   "execution_count": null,
   "metadata": {},
   "outputs": [],
   "source": []
  }
 ],
 "metadata": {
  "kernelspec": {
   "display_name": "Python 3",
   "language": "python",
   "name": "python3"
  },
  "language_info": {
   "codemirror_mode": {
    "name": "ipython",
    "version": 3
   },
   "file_extension": ".py",
   "mimetype": "text/x-python",
   "name": "python",
   "nbconvert_exporter": "python",
   "pygments_lexer": "ipython3",
   "version": "3.7.4"
  }
 },
 "nbformat": 4,
 "nbformat_minor": 2
}
